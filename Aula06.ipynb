{
 "cells": [
  {
   "cell_type": "markdown",
   "metadata": {},
   "source": [
    "# Aula 06 - Introdução a Tuplas e Dicionários"
   ]
  },
  {
   "cell_type": "code",
   "execution_count": 36,
   "metadata": {},
   "outputs": [
    {
     "data": {
      "text/plain": [
       "5"
      ]
     },
     "execution_count": 36,
     "metadata": {},
     "output_type": "execute_result"
    }
   ],
   "source": [
    "lista = [2,5,9]\n",
    "lista[1]"
   ]
  },
  {
   "cell_type": "markdown",
   "metadata": {},
   "source": [
    "## Introdução a Tuplas"
   ]
  },
  {
   "cell_type": "code",
   "execution_count": 37,
   "metadata": {},
   "outputs": [
    {
     "data": {
      "text/plain": [
       "5"
      ]
     },
     "execution_count": 37,
     "metadata": {},
     "output_type": "execute_result"
    }
   ],
   "source": [
    "tupla = (2,5,9)\n",
    "tupla[1]"
   ]
  },
  {
   "cell_type": "code",
   "execution_count": 38,
   "metadata": {},
   "outputs": [
    {
     "name": "stdout",
     "output_type": "stream",
     "text": [
      "[2, 5, 9, 7]\n"
     ]
    }
   ],
   "source": [
    "lista.append(7)\n",
    "print(lista)"
   ]
  },
  {
   "cell_type": "code",
   "execution_count": 39,
   "metadata": {},
   "outputs": [
    {
     "name": "stdout",
     "output_type": "stream",
     "text": [
      "(3, 9, 0)\n"
     ]
    }
   ],
   "source": [
    "tupla = (3,9,0)\n",
    "print(tupla)"
   ]
  },
  {
   "cell_type": "markdown",
   "metadata": {},
   "source": [
    "## Introdução a Dicionários"
   ]
  },
  {
   "cell_type": "code",
   "execution_count": 40,
   "metadata": {},
   "outputs": [],
   "source": [
    "dicionario = {\n",
    "    'curso':'Desenvolvimento de Sistemas',\n",
    "    'ano':2024,\n",
    "    'modulo':'Técnicas de Programação e Algorítmos',\n",
    "    'professor':'Gustavo'\n",
    "}"
   ]
  },
  {
   "cell_type": "code",
   "execution_count": 41,
   "metadata": {},
   "outputs": [
    {
     "name": "stdout",
     "output_type": "stream",
     "text": [
      "Desenvolvimento de Sistemas\n",
      "2024\n",
      "Técnicas de Programação e Algorítmos\n",
      "Gustavo\n"
     ]
    }
   ],
   "source": [
    "print(dicionario['curso'])\n",
    "print(dicionario['ano'])\n",
    "print(dicionario['modulo'])\n",
    "print(dicionario['professor'])"
   ]
  },
  {
   "cell_type": "code",
   "execution_count": 42,
   "metadata": {},
   "outputs": [
    {
     "name": "stdout",
     "output_type": "stream",
     "text": [
      "9.5\n"
     ]
    }
   ],
   "source": [
    "dicionario['nota'] = 9.5\n",
    "print(dicionario['nota'])"
   ]
  },
  {
   "cell_type": "code",
   "execution_count": 43,
   "metadata": {},
   "outputs": [
    {
     "name": "stdout",
     "output_type": "stream",
     "text": [
      "Desenvolvimento de Sistemas\n",
      "2024\n",
      "Técnicas de Programação e Algorítmos\n",
      "Gustavo\n",
      "9.5\n"
     ]
    }
   ],
   "source": [
    "for x in dicionario.values():\n",
    "    print(x)"
   ]
  },
  {
   "cell_type": "code",
   "execution_count": 44,
   "metadata": {},
   "outputs": [
    {
     "name": "stdout",
     "output_type": "stream",
     "text": [
      "dict_keys(['curso', 'ano', 'modulo', 'professor', 'nota'])\n",
      "dict_values(['Desenvolvimento de Sistemas', 2024, 'Técnicas de Programação e Algorítmos', 'Gustavo', 9.5])\n"
     ]
    }
   ],
   "source": [
    "print(dicionario.keys())\n",
    "print(dicionario.values())"
   ]
  },
  {
   "cell_type": "code",
   "execution_count": 47,
   "metadata": {},
   "outputs": [
    {
     "name": "stdout",
     "output_type": "stream",
     "text": [
      "{}\n"
     ]
    }
   ],
   "source": [
    "dicionario.clear()\n",
    "print(dicionario)"
   ]
  },
  {
   "cell_type": "markdown",
   "metadata": {},
   "source": [
    "## Exercício 01\n",
    "\n",
    "> Crie 3 dicionários: Matrícula, Aluno e Diciplina. A Matrícula terá código da matricula, data_inscrição e curso; o aluno terá registro e nome; a diciplina terá registro e professor. Ao final adicione os três dicionarios em uma tupla chamada escola."
   ]
  },
  {
   "cell_type": "code",
   "execution_count": 79,
   "metadata": {},
   "outputs": [],
   "source": [
    "matricula = {\n",
    "    'codigo':89,\n",
    "    'data_inscrição':'14-12-2023',\n",
    "    'curso':'Desenvolvimento de Sistemas'\n",
    "}\n",
    "\n",
    "aluno = {\n",
    "    'registro':247001,\n",
    "    'nome':'Jacinto'\n",
    "}\n",
    "\n",
    "diciplina = {\n",
    "    'registro':26,\n",
    "    'nome':'Técnicas de Programação e Algorítmo',\n",
    "    'professor':'Gustavo'\n",
    "}"
   ]
  },
  {
   "cell_type": "code",
   "execution_count": 81,
   "metadata": {},
   "outputs": [
    {
     "name": "stdout",
     "output_type": "stream",
     "text": [
      "dict_values([89, '14-12-2023', 'Desenvolvimento de Sistemas'])\n",
      "dict_values([247001, 'Jacinto'])\n",
      "dict_values([26, 'Técnicas de Programação e Algorítmo', 'Gustavo'])\n"
     ]
    }
   ],
   "source": [
    "escola = (matricula,aluno,diciplina)\n",
    "for x in escola:\n",
    "    print(x.values())"
   ]
  },
  {
   "cell_type": "markdown",
   "metadata": {},
   "source": [
    "## Exercício 2\n",
    "\n",
    ">Crie três dicionários para as seguintes tabelas: vendedor, produto e venda. O vendedor terá regsitro, nome e admissão; o produto terá o ID, nome, fabricante; A venda terá reg_vendedor, id_produto e valor. Após a criação dos dicionários, adicionem a uma tupla chamada casas_baiano"
   ]
  },
  {
   "cell_type": "code",
   "execution_count": 83,
   "metadata": {},
   "outputs": [
    {
     "name": "stdout",
     "output_type": "stream",
     "text": [
      "{'registro': 22, 'nome': 'Guilherme', 'admissao': '11/10/2015'}\n",
      "{'ID': 2983, 'nome': 'XBOX 390', 'fabricante': 'Maicrosoft'}\n",
      "{'reg_vendedor': 22, 'id_produto': 2983, 'valor': 9300}\n"
     ]
    }
   ],
   "source": [
    "vendedor = {\n",
    "    'registro':22,\n",
    "    'nome':'Guilherme',\n",
    "    'admissao':'11/10/2015'\n",
    "}\n",
    "\n",
    "produto = {\n",
    "    'ID':2983,\n",
    "    'nome':'XBOX 390',\n",
    "    'fabricante':'Maicrosoft'\n",
    "}\n",
    "\n",
    "venda = {\n",
    "    'reg_vendedor':22,\n",
    "    'id_produto':2983,\n",
    "    'valor':9300\n",
    "}\n",
    "\n",
    "casas_baiano = (vendedor, produto, venda)\n",
    "for x in casas_baiano:\n",
    "    print(x)"
   ]
  }
 ],
 "metadata": {
  "kernelspec": {
   "display_name": "Python 3",
   "language": "python",
   "name": "python3"
  },
  "language_info": {
   "codemirror_mode": {
    "name": "ipython",
    "version": 3
   },
   "file_extension": ".py",
   "mimetype": "text/x-python",
   "name": "python",
   "nbconvert_exporter": "python",
   "pygments_lexer": "ipython3",
   "version": "3.12.2"
  }
 },
 "nbformat": 4,
 "nbformat_minor": 2
}
