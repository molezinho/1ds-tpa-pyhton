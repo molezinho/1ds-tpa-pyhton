{
 "cells": [
  {
   "cell_type": "markdown",
   "metadata": {},
   "source": [
    "# Aula 05 - Introdução ao List Comprehension e Format"
   ]
  },
  {
   "cell_type": "markdown",
   "metadata": {},
   "source": [
    "> Nessa aula iremos dar introdução ao list comprehension, uma forma mais simples de realizar conversões de valores entre duas ou mais listas. \n",
    "> Atualmente é uma das formas mais rápidas de aplicar conversões, substituindo as declarações mais extensas do que o método convencional, lamba e o map. "
   ]
  },
  {
   "cell_type": "markdown",
   "metadata": {},
   "source": [
    "## Exemplo 1 - Conversão de Celsius para Fahrenheit"
   ]
  },
  {
   "cell_type": "code",
   "execution_count": 1,
   "metadata": {},
   "outputs": [
    {
     "name": "stdout",
     "output_type": "stream",
     "text": [
      "[50.0, 68.0, 86.0, 104.0, 122.0]\n"
     ]
    }
   ],
   "source": [
    "celsius = [10,20,30,40,50]\n",
    "fahrenheit = [round(x*1.8+32,2) for x in celsius]\n",
    "print(fahrenheit)"
   ]
  },
  {
   "cell_type": "markdown",
   "metadata": {},
   "source": [
    "## Exemplo 2 - Conversão de Kmh para Mph"
   ]
  },
  {
   "cell_type": "code",
   "execution_count": 3,
   "metadata": {},
   "outputs": [
    {
     "name": "stdout",
     "output_type": "stream",
     "text": [
      "[62.11, 186.34, 124.22, 31.06]\n"
     ]
    }
   ],
   "source": [
    "kmh = [100,300,200,50]\n",
    "mph = [round(x/1.61,2) for x in kmh]\n",
    "print(mph)"
   ]
  },
  {
   "cell_type": "code",
   "execution_count": 8,
   "metadata": {},
   "outputs": [
    {
     "name": "stdout",
     "output_type": "stream",
     "text": [
      "kmh   mph   \n",
      "============\n",
      "100   62.11 \n",
      "300   186.34\n",
      "200   124.22\n",
      "50    31.06 \n"
     ]
    }
   ],
   "source": [
    "print(\"{:<6}{:<6}\".format(\"kmh\",\"mph\"))\n",
    "print(\"============\")\n",
    "x = 0\n",
    "while(x<len(kmh)):\n",
    "    print(\"{:<6}{:<6}\".format(kmh[x],mph[x]))\n",
    "    x += 1"
   ]
  },
  {
   "cell_type": "code",
   "execution_count": 15,
   "metadata": {},
   "outputs": [
    {
     "name": "stdout",
     "output_type": "stream",
     "text": [
      "celsius fahrenheit\n",
      "==================\n",
      "10      50.0  \n",
      "20      68.0  \n",
      "30      86.0  \n",
      "40      104.0 \n",
      "50      122.0 \n"
     ]
    }
   ],
   "source": [
    "print(\"{:<8}{:<9}\".format(\"celsius\",\"fahrenheit\"))\n",
    "print(\"==================\")\n",
    "x = 0\n",
    "while(x<len(celsius)):\n",
    "    print(\"{:<8}{:<6}\".format(celsius[x],fahrenheit[x]))\n",
    "    x += 1"
   ]
  },
  {
   "cell_type": "markdown",
   "metadata": {},
   "source": [
    "## Exercício 1"
   ]
  },
  {
   "cell_type": "markdown",
   "metadata": {},
   "source": [
    "> Crie uma lista com 10 valores em metros. Crie uma tabela de conversão para polegadas, pés, jardas e mílhas marítmas. listando o número da linha e o cabeçalho da tabela."
   ]
  },
  {
   "cell_type": "code",
   "execution_count": 52,
   "metadata": {},
   "outputs": [
    {
     "name": "stdout",
     "output_type": "stream",
     "text": [
      "metros polegadas pés  jardas mílhas marítmas  \n",
      "===========================================\n",
      "10     394       33   11     0.0054           \n",
      "100    3937      328  109    0.054            \n",
      "40     1575      131  44     0.0216           \n",
      "50     1968      164  55     0.027            \n",
      "80     3150      262  87     0.0432           \n",
      "90     3543      295  98     0.0486           \n",
      "200    7874      656  218    0.10799          \n",
      "300    11811     984  327    0.16199          \n",
      "250    9842      820  272    0.13499          \n",
      "20     787       66   22     0.0108           \n"
     ]
    }
   ],
   "source": [
    "metros = [10,100,40,50,80,90,200,300,250,20]\n",
    "\n",
    "polegadas = [round(x*39.37) for x in metros]\n",
    "pes = [round(x*3.28) for x in metros]\n",
    "jardas = [round(x*1.09) for x in metros]\n",
    "milhasm = [round(x/1852,5) for x in metros]\n",
    "\n",
    "print(\"{:<7}{:<10}{:<5}{:<7}{:<17}\".format(\"metros\",\"polegadas\",\"pés\",\"jardas\",\"mílhas marítmas\"))\n",
    "print(\"===========================================\")\n",
    "x = 0\n",
    "while(x<len(metros)):\n",
    "    print(\"{:<7}{:<10}{:<5}{:<7}{:<17}\".format(metros[x],polegadas[x],pes[x],jardas[x],milhasm[x]))\n",
    "    x += 1"
   ]
  },
  {
   "cell_type": "markdown",
   "metadata": {},
   "source": [
    "## Exercício 2"
   ]
  },
  {
   "cell_type": "markdown",
   "metadata": {},
   "source": [
    "> Crie uma lista com 10 valores em Kelvin. Cire uma tabela de conversão para Celsius e Fahrenheit, listando o número da linha e o cabeçalho da tabela"
   ]
  },
  {
   "cell_type": "code",
   "execution_count": 86,
   "metadata": {},
   "outputs": [
    {
     "name": "stdout",
     "output_type": "stream",
     "text": [
      "Kelvin Celsius Fahrenheit \n",
      "=========================\n",
      "300    26.85   80.33     \n",
      "350    76.85   170.33    \n",
      "400    126.85  260.33    \n",
      "450    176.85  350.33    \n",
      "600    326.85  620.33    \n",
      "500    226.85  440.33    \n",
      "750    476.85  890.33    \n",
      "200    -73.15  -99.67    \n",
      "800    526.85  980.33    \n",
      "250    -23.15  -9.67     \n"
     ]
    }
   ],
   "source": [
    "kelvin = [300,350,400,450,600,500,750,200,800,250]\n",
    "\n",
    "celsius = [round(x-273.15,2) for x in kelvin]\n",
    "fahrenheit = [round(x*1.8 - 459.67,2) for x in kelvin]\n",
    "\n",
    "print(\"{:<7}{:<8}{:<11}\".format (\"Kelvin\",\"Celsius\",\"Fahrenheit\"))\n",
    "print(\"=========================\")\n",
    "x = 0\n",
    "while(x<len(kelvin)):\n",
    "    print(\"{:<7}{:<8}{:<10}\".format (kelvin[x],celsius[x],fahrenheit[x]))\n",
    "    x += 1"
   ]
  }
 ],
 "metadata": {
  "kernelspec": {
   "display_name": "Python 3",
   "language": "python",
   "name": "python3"
  },
  "language_info": {
   "codemirror_mode": {
    "name": "ipython",
    "version": 3
   },
   "file_extension": ".py",
   "mimetype": "text/x-python",
   "name": "python",
   "nbconvert_exporter": "python",
   "pygments_lexer": "ipython3",
   "version": "3.12.2"
  }
 },
 "nbformat": 4,
 "nbformat_minor": 2
}
