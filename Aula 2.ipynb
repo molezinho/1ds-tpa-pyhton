{
 "cells": [
  {
   "cell_type": "markdown",
   "metadata": {},
   "source": [
    "# Aula 2 - Se composto e Estruturas de repetição"
   ]
  },
  {
   "cell_type": "markdown",
   "metadata": {},
   "source": [
    "# Se composto"
   ]
  },
  {
   "cell_type": "markdown",
   "metadata": {},
   "source": [
    "### Parte 1 - and"
   ]
  },
  {
   "cell_type": "code",
   "execution_count": null,
   "metadata": {},
   "outputs": [],
   "source": [
    "idade =  16 \n",
    "carteira = 50000\n",
    "\n",
    "if(idade >= 18 and carteira >= 50000):\n",
    "    print(\"Compra aprovada\")\n",
    "else:\n",
    "    print(\"Compra recusada\")"
   ]
  },
  {
   "cell_type": "markdown",
   "metadata": {},
   "source": [
    "### Parte 2 - or\n"
   ]
  },
  {
   "cell_type": "code",
   "execution_count": null,
   "metadata": {},
   "outputs": [],
   "source": [
    "idade =  16 \n",
    "carteira = 50000\n",
    "\n",
    "if(idade >= 18 or carteira >= 50000):\n",
    "    print(\"Compra aprovada\")\n",
    "else:\n",
    "    print(\"Compra recusada\")"
   ]
  },
  {
   "cell_type": "markdown",
   "metadata": {},
   "source": [
    "# Enquanto"
   ]
  },
  {
   "cell_type": "markdown",
   "metadata": {},
   "source": [
    "### parte 1"
   ]
  },
  {
   "cell_type": "code",
   "execution_count": null,
   "metadata": {},
   "outputs": [],
   "source": [
    "x = 0\n",
    "while(x<=10):\n",
    "    print(x)\n",
    "    x = x + 1"
   ]
  },
  {
   "cell_type": "markdown",
   "metadata": {},
   "source": [
    "### parte 2 - Contagem regressiva"
   ]
  },
  {
   "cell_type": "code",
   "execution_count": null,
   "metadata": {},
   "outputs": [],
   "source": [
    "x = 10\n",
    "while(x >= 0):\n",
    "    print(x)\n",
    "    x = x - 1"
   ]
  },
  {
   "cell_type": "markdown",
   "metadata": {},
   "source": [
    "# Lista, tupla e dicionario"
   ]
  },
  {
   "cell_type": "markdown",
   "metadata": {},
   "source": [
    "### Parte 1 -Lista simples"
   ]
  },
  {
   "cell_type": "code",
   "execution_count": null,
   "metadata": {},
   "outputs": [],
   "source": [
    "alunos = [\"Gustavo\", \"Lucas\", \"Pedro\"]\n",
    "print(alunos)\n",
    "print(alunos[0])"
   ]
  },
  {
   "cell_type": "markdown",
   "metadata": {},
   "source": [
    "### Parte 2 - Listas em repetição"
   ]
  },
  {
   "cell_type": "code",
   "execution_count": null,
   "metadata": {},
   "outputs": [],
   "source": [
    "x = 0\n",
    "while(x <= 2):\n",
    "    print(alunos[x])\n",
    "    x = x + 1"
   ]
  },
  {
   "cell_type": "markdown",
   "metadata": {},
   "source": [
    "### Parte 3 - percorrer lista sem usar while"
   ]
  },
  {
   "cell_type": "code",
   "execution_count": null,
   "metadata": {},
   "outputs": [],
   "source": [
    "for x in alunos:\n",
    "    print(x)"
   ]
  },
  {
   "cell_type": "markdown",
   "metadata": {},
   "source": [
    "Parte 4 - outras listas"
   ]
  },
  {
   "cell_type": "code",
   "execution_count": null,
   "metadata": {},
   "outputs": [],
   "source": [
    "Alunos1 = [\"Gustavo\", \"Lucas\", \"Pedro\"]\n",
    "print(Alunos1[1])\n",
    "\n",
    "Alunos2 = [\"Gustavo\", \"Lucas\", \"Pedro\"]\n",
    "print(Alunos2[1])\n",
    "\n",
    "Alunos3 [1==\"Gustavo\",2==\"Lucas\",3==\"Pedro\"]\n",
    "print(Alunos3[1])\n"
   ]
  },
  {
   "cell_type": "markdown",
   "metadata": {},
   "source": [
    "# Exercicio"
   ]
  },
  {
   "cell_type": "markdown",
   "metadata": {},
   "source": [
    "<p>Liste 10 frutas ou legumes que pedrinho fez no verdurão. Utilize os laços for ou while deixando-os da seguinte forma:<p>\n",
    "<li>1 Abacaxi<br>\n",
    "<li>2 Alface<br>\n",
    "<li>3 Tomate<br>\n",
    "<li>4 Batata<br>\n",
    "<li>5 Mexerica<br>\n",
    "<li>6 Abobrinha<br>\n",
    "<li>7 Morango<br>\n",
    "<li>8 Banana<br>\n",
    "<li>9 Caju<br>\n",
    "<li>10 Uva<br>\n"
   ]
  },
  {
   "cell_type": "code",
   "execution_count": 22,
   "metadata": {},
   "outputs": [
    {
     "name": "stdout",
     "output_type": "stream",
     "text": [
      "Abacaxi\n",
      "Alface\n",
      "Tomate\n",
      "Batata\n",
      "Mexerica\n",
      "Abobrinha\n",
      "Morango\n",
      "Banana\n",
      "Caju\n",
      "Uva\n"
     ]
    }
   ],
   "source": [
    "compras = [\"Abacaxi\", \"Alface\", \"Tomate\", \"Batata\", \"Mexerica\", \"Abobrinha\", \"Morango\", \"Banana\", \"Caju\", \"Uva\"]\n",
    "for c in compras:\n",
    "    print(c)"
   ]
  }
 ],
 "metadata": {
  "kernelspec": {
   "display_name": "Python 3",
   "language": "python",
   "name": "python3"
  },
  "language_info": {
   "codemirror_mode": {
    "name": "ipython",
    "version": 3
   },
   "file_extension": ".py",
   "mimetype": "text/x-python",
   "name": "python",
   "nbconvert_exporter": "python",
   "pygments_lexer": "ipython3",
   "version": "3.12.2"
  }
 },
 "nbformat": 4,
 "nbformat_minor": 2
}
